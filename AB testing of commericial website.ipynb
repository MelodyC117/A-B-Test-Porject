{
 "cells": [
  {
   "cell_type": "markdown",
   "metadata": {},
   "source": [
    "## Analyze A/B Test Results\n",
    "\n",
    "\n",
    "## Table of Contents\n",
    "- [Introduction](#intro)\n",
    "- [Part I - Probability](#probability)\n",
    "- [Part II - A/B Test](#ab_test)\n",
    "- [Part III - Regression](#regression)\n",
    "\n",
    "\n",
    "<a id='intro'></a>\n",
    "### Introduction\n",
    "\n",
    "This analysis will implement an A/B test run for an e-commerce website. The goal is to help the company understand if they should implement the new page, keep the old page, or perhaps run the experiment longer to make their decision.\n",
    "\n",
    "#### Part I - Probability\n"
   ]
  },
  {
   "cell_type": "code",
   "execution_count": 1,
   "metadata": {},
   "outputs": [],
   "source": [
    "import pandas as pd\n",
    "import numpy as np\n",
    "import random\n",
    "import matplotlib.pyplot as plt\n",
    "%matplotlib inline\n",
    "#We are setting the seed to assure you get the same answers on quizzes as we set up\n",
    "random.seed(42)"
   ]
  },
  {
   "cell_type": "markdown",
   "metadata": {},
   "source": [
    "`1.` Now, read in the `ab_data.csv` data. Store it in `df`.  \n",
    "\n",
    "a. Read in the dataset and take a look at the top few rows here:"
   ]
  },
  {
   "cell_type": "code",
   "execution_count": 2,
   "metadata": {},
   "outputs": [
    {
     "data": {
      "text/html": [
       "<div>\n",
       "<style>\n",
       "    .dataframe thead tr:only-child th {\n",
       "        text-align: right;\n",
       "    }\n",
       "\n",
       "    .dataframe thead th {\n",
       "        text-align: left;\n",
       "    }\n",
       "\n",
       "    .dataframe tbody tr th {\n",
       "        vertical-align: top;\n",
       "    }\n",
       "</style>\n",
       "<table border=\"1\" class=\"dataframe\">\n",
       "  <thead>\n",
       "    <tr style=\"text-align: right;\">\n",
       "      <th></th>\n",
       "      <th>user_id</th>\n",
       "      <th>timestamp</th>\n",
       "      <th>group</th>\n",
       "      <th>landing_page</th>\n",
       "      <th>converted</th>\n",
       "    </tr>\n",
       "  </thead>\n",
       "  <tbody>\n",
       "    <tr>\n",
       "      <th>0</th>\n",
       "      <td>851104</td>\n",
       "      <td>2017-01-21 22:11:48.556739</td>\n",
       "      <td>control</td>\n",
       "      <td>old_page</td>\n",
       "      <td>0</td>\n",
       "    </tr>\n",
       "    <tr>\n",
       "      <th>1</th>\n",
       "      <td>804228</td>\n",
       "      <td>2017-01-12 08:01:45.159739</td>\n",
       "      <td>control</td>\n",
       "      <td>old_page</td>\n",
       "      <td>0</td>\n",
       "    </tr>\n",
       "    <tr>\n",
       "      <th>2</th>\n",
       "      <td>661590</td>\n",
       "      <td>2017-01-11 16:55:06.154213</td>\n",
       "      <td>treatment</td>\n",
       "      <td>new_page</td>\n",
       "      <td>0</td>\n",
       "    </tr>\n",
       "    <tr>\n",
       "      <th>3</th>\n",
       "      <td>853541</td>\n",
       "      <td>2017-01-08 18:28:03.143765</td>\n",
       "      <td>treatment</td>\n",
       "      <td>new_page</td>\n",
       "      <td>0</td>\n",
       "    </tr>\n",
       "    <tr>\n",
       "      <th>4</th>\n",
       "      <td>864975</td>\n",
       "      <td>2017-01-21 01:52:26.210827</td>\n",
       "      <td>control</td>\n",
       "      <td>old_page</td>\n",
       "      <td>1</td>\n",
       "    </tr>\n",
       "  </tbody>\n",
       "</table>\n",
       "</div>"
      ],
      "text/plain": [
       "   user_id                   timestamp      group landing_page  converted\n",
       "0   851104  2017-01-21 22:11:48.556739    control     old_page          0\n",
       "1   804228  2017-01-12 08:01:45.159739    control     old_page          0\n",
       "2   661590  2017-01-11 16:55:06.154213  treatment     new_page          0\n",
       "3   853541  2017-01-08 18:28:03.143765  treatment     new_page          0\n",
       "4   864975  2017-01-21 01:52:26.210827    control     old_page          1"
      ]
     },
     "execution_count": 2,
     "metadata": {},
     "output_type": "execute_result"
    }
   ],
   "source": [
    "df = pd.read_csv(\"ab_data.csv\")\n",
    "#Display the table to observe variables\n",
    "df.head()"
   ]
  },
  {
   "cell_type": "markdown",
   "metadata": {},
   "source": [
    "b. Use the below cell to find the number of rows in the dataset."
   ]
  },
  {
   "cell_type": "code",
   "execution_count": 3,
   "metadata": {},
   "outputs": [
    {
     "data": {
      "text/plain": [
       "294478"
      ]
     },
     "execution_count": 3,
     "metadata": {},
     "output_type": "execute_result"
    }
   ],
   "source": [
    "#Calculate number of total rows\n",
    "row = df['user_id'].count()\n",
    "row"
   ]
  },
  {
   "cell_type": "markdown",
   "metadata": {},
   "source": [
    "c. The number of unique users in the dataset."
   ]
  },
  {
   "cell_type": "code",
   "execution_count": 4,
   "metadata": {},
   "outputs": [
    {
     "data": {
      "text/plain": [
       "290584"
      ]
     },
     "execution_count": 4,
     "metadata": {},
     "output_type": "execute_result"
    }
   ],
   "source": [
    "#Find and count only the unique unser ids\n",
    "uni_user = df.groupby('user_id')['user_id'].nunique().sum()\n",
    "uni_user"
   ]
  },
  {
   "cell_type": "markdown",
   "metadata": {
    "collapsed": true
   },
   "source": [
    "d. The proportion of users converted."
   ]
  },
  {
   "cell_type": "code",
   "execution_count": 5,
   "metadata": {},
   "outputs": [
    {
     "data": {
      "text/plain": [
       "0.12126269856564711"
      ]
     },
     "execution_count": 5,
     "metadata": {},
     "output_type": "execute_result"
    }
   ],
   "source": [
    "#Find conversion ratio by taking number converted divided by total unique users\n",
    "num_convert = df.query('converted == 1').user_id.count() / uni_user\n",
    "num_convert"
   ]
  },
  {
   "cell_type": "markdown",
   "metadata": {
    "collapsed": true
   },
   "source": [
    "e. The number of times the `new_page` and `treatment` don't line up."
   ]
  },
  {
   "cell_type": "code",
   "execution_count": 6,
   "metadata": {},
   "outputs": [
    {
     "data": {
      "text/plain": [
       "3893"
      ]
     },
     "execution_count": 6,
     "metadata": {},
     "output_type": "execute_result"
    }
   ],
   "source": [
    "#Sum up number of time new page and treatment don't line up\n",
    "num_lineup = df.query('landing_page == \"new_page\" & group != \"treatment\"').user_id.count() + df.query('landing_page != \"new_page\" & group == \"treatment\"').user_id.count()\n",
    "num_lineup"
   ]
  },
  {
   "cell_type": "markdown",
   "metadata": {},
   "source": [
    "f. Do any of the rows have missing values?"
   ]
  },
  {
   "cell_type": "code",
   "execution_count": 7,
   "metadata": {},
   "outputs": [
    {
     "name": "stdout",
     "output_type": "stream",
     "text": [
      "<class 'pandas.core.frame.DataFrame'>\n",
      "RangeIndex: 294478 entries, 0 to 294477\n",
      "Data columns (total 5 columns):\n",
      "user_id         294478 non-null int64\n",
      "timestamp       294478 non-null object\n",
      "group           294478 non-null object\n",
      "landing_page    294478 non-null object\n",
      "converted       294478 non-null int64\n",
      "dtypes: int64(2), object(3)\n",
      "memory usage: 11.2+ MB\n"
     ]
    }
   ],
   "source": [
    "#Check for missing values\n",
    "df.info()"
   ]
  },
  {
   "cell_type": "markdown",
   "metadata": {},
   "source": [
    "`2.` For the rows where **treatment** is not aligned with **new_page** or **control** is not aligned with **old_page**, it is more practical to remove these rows."
   ]
  },
  {
   "cell_type": "code",
   "execution_count": 9,
   "metadata": {},
   "outputs": [
    {
     "data": {
      "text/html": [
       "<div>\n",
       "<style>\n",
       "    .dataframe thead tr:only-child th {\n",
       "        text-align: right;\n",
       "    }\n",
       "\n",
       "    .dataframe thead th {\n",
       "        text-align: left;\n",
       "    }\n",
       "\n",
       "    .dataframe tbody tr th {\n",
       "        vertical-align: top;\n",
       "    }\n",
       "</style>\n",
       "<table border=\"1\" class=\"dataframe\">\n",
       "  <thead>\n",
       "    <tr style=\"text-align: right;\">\n",
       "      <th></th>\n",
       "      <th>user_id</th>\n",
       "      <th>timestamp</th>\n",
       "      <th>group</th>\n",
       "      <th>landing_page</th>\n",
       "      <th>converted</th>\n",
       "    </tr>\n",
       "  </thead>\n",
       "  <tbody>\n",
       "    <tr>\n",
       "      <th>0</th>\n",
       "      <td>851104</td>\n",
       "      <td>2017-01-21 22:11:48.556739</td>\n",
       "      <td>control</td>\n",
       "      <td>old_page</td>\n",
       "      <td>0</td>\n",
       "    </tr>\n",
       "    <tr>\n",
       "      <th>1</th>\n",
       "      <td>804228</td>\n",
       "      <td>2017-01-12 08:01:45.159739</td>\n",
       "      <td>control</td>\n",
       "      <td>old_page</td>\n",
       "      <td>0</td>\n",
       "    </tr>\n",
       "    <tr>\n",
       "      <th>2</th>\n",
       "      <td>661590</td>\n",
       "      <td>2017-01-11 16:55:06.154213</td>\n",
       "      <td>treatment</td>\n",
       "      <td>new_page</td>\n",
       "      <td>0</td>\n",
       "    </tr>\n",
       "    <tr>\n",
       "      <th>3</th>\n",
       "      <td>853541</td>\n",
       "      <td>2017-01-08 18:28:03.143765</td>\n",
       "      <td>treatment</td>\n",
       "      <td>new_page</td>\n",
       "      <td>0</td>\n",
       "    </tr>\n",
       "    <tr>\n",
       "      <th>4</th>\n",
       "      <td>864975</td>\n",
       "      <td>2017-01-21 01:52:26.210827</td>\n",
       "      <td>control</td>\n",
       "      <td>old_page</td>\n",
       "      <td>1</td>\n",
       "    </tr>\n",
       "  </tbody>\n",
       "</table>\n",
       "</div>"
      ],
      "text/plain": [
       "   user_id                   timestamp      group landing_page  converted\n",
       "0   851104  2017-01-21 22:11:48.556739    control     old_page          0\n",
       "1   804228  2017-01-12 08:01:45.159739    control     old_page          0\n",
       "2   661590  2017-01-11 16:55:06.154213  treatment     new_page          0\n",
       "3   853541  2017-01-08 18:28:03.143765  treatment     new_page          0\n",
       "4   864975  2017-01-21 01:52:26.210827    control     old_page          1"
      ]
     },
     "execution_count": 9,
     "metadata": {},
     "output_type": "execute_result"
    }
   ],
   "source": [
    "#Create a new dataframe that removes rows where new page and treatment don't line up or old page and group don't line up\n",
    "df2 = df.copy()\n",
    "df2 = df2.query('(landing_page == \"new_page\" & group == \"treatment\") | (landing_page == \"old_page\" & group == \"control\")')\n",
    "df2.head()"
   ]
  },
  {
   "cell_type": "code",
   "execution_count": 10,
   "metadata": {},
   "outputs": [
    {
     "data": {
      "text/plain": [
       "0"
      ]
     },
     "execution_count": 10,
     "metadata": {},
     "output_type": "execute_result"
    }
   ],
   "source": [
    "# Double Check all of the correct rows were removed - this should be 0\n",
    "df2[((df2['group'] == 'treatment') == (df2['landing_page'] == 'new_page')) == False].shape[0]"
   ]
  },
  {
   "cell_type": "markdown",
   "metadata": {},
   "source": [
    "`3.` "
   ]
  },
  {
   "cell_type": "markdown",
   "metadata": {},
   "source": [
    "a. How many unique **user_id**s are in **df2**?"
   ]
  },
  {
   "cell_type": "code",
   "execution_count": 11,
   "metadata": {},
   "outputs": [
    {
     "data": {
      "text/plain": [
       "290584"
      ]
     },
     "execution_count": 11,
     "metadata": {},
     "output_type": "execute_result"
    }
   ],
   "source": [
    "#Find number of unique user ids in the new dataframe\n",
    "uni_user2 = df2.groupby('user_id')['user_id'].nunique().sum()\n",
    "uni_user2"
   ]
  },
  {
   "cell_type": "markdown",
   "metadata": {
    "collapsed": true
   },
   "source": [
    "b. There is one **user_id** repeated in **df2**.  What is it?"
   ]
  },
  {
   "cell_type": "code",
   "execution_count": 12,
   "metadata": {},
   "outputs": [
    {
     "data": {
      "text/plain": [
       "773192"
      ]
     },
     "execution_count": 12,
     "metadata": {},
     "output_type": "execute_result"
    }
   ],
   "source": [
    "#Retrieve the user id that repeated twice\n",
    "df2[df2['user_id'].duplicated()].user_id.values[0]"
   ]
  },
  {
   "cell_type": "markdown",
   "metadata": {},
   "source": [
    "c. What is the row information for the repeat **user_id**? "
   ]
  },
  {
   "cell_type": "code",
   "execution_count": 13,
   "metadata": {},
   "outputs": [
    {
     "data": {
      "text/html": [
       "<div>\n",
       "<style>\n",
       "    .dataframe thead tr:only-child th {\n",
       "        text-align: right;\n",
       "    }\n",
       "\n",
       "    .dataframe thead th {\n",
       "        text-align: left;\n",
       "    }\n",
       "\n",
       "    .dataframe tbody tr th {\n",
       "        vertical-align: top;\n",
       "    }\n",
       "</style>\n",
       "<table border=\"1\" class=\"dataframe\">\n",
       "  <thead>\n",
       "    <tr style=\"text-align: right;\">\n",
       "      <th></th>\n",
       "      <th>user_id</th>\n",
       "      <th>timestamp</th>\n",
       "      <th>group</th>\n",
       "      <th>landing_page</th>\n",
       "      <th>converted</th>\n",
       "    </tr>\n",
       "  </thead>\n",
       "  <tbody>\n",
       "    <tr>\n",
       "      <th>2893</th>\n",
       "      <td>773192</td>\n",
       "      <td>2017-01-14 02:55:59.590927</td>\n",
       "      <td>treatment</td>\n",
       "      <td>new_page</td>\n",
       "      <td>0</td>\n",
       "    </tr>\n",
       "  </tbody>\n",
       "</table>\n",
       "</div>"
      ],
      "text/plain": [
       "      user_id                   timestamp      group landing_page  converted\n",
       "2893   773192  2017-01-14 02:55:59.590927  treatment     new_page          0"
      ]
     },
     "execution_count": 13,
     "metadata": {},
     "output_type": "execute_result"
    }
   ],
   "source": [
    "#Display row information for the user id above\n",
    "dup = df2[df2['user_id'].duplicated()]\n",
    "dup"
   ]
  },
  {
   "cell_type": "markdown",
   "metadata": {},
   "source": [
    "d. Remove **one** of the rows with a duplicate **user_id**."
   ]
  },
  {
   "cell_type": "code",
   "execution_count": 14,
   "metadata": {},
   "outputs": [
    {
     "data": {
      "text/plain": [
       "0"
      ]
     },
     "execution_count": 14,
     "metadata": {},
     "output_type": "execute_result"
    }
   ],
   "source": [
    "#Remove the repeated user id\n",
    "df2.drop(2893, axis=0, inplace=True)\n",
    "df2['user_id'].duplicated().sum()"
   ]
  },
  {
   "cell_type": "markdown",
   "metadata": {},
   "source": [
    "`4.`\n",
    "\n",
    "a. What is the probability of an individual converting regardless of the page they receive?"
   ]
  },
  {
   "cell_type": "code",
   "execution_count": 15,
   "metadata": {},
   "outputs": [
    {
     "data": {
      "text/plain": [
       "0.11959708724499628"
      ]
     },
     "execution_count": 15,
     "metadata": {},
     "output_type": "execute_result"
    }
   ],
   "source": [
    "#Calculate converted portion in total unique users\n",
    "p_convert = df2[df2['converted'] == 1]['user_id'].count() / df2['user_id'].count()\n",
    "p_convert"
   ]
  },
  {
   "cell_type": "markdown",
   "metadata": {},
   "source": [
    "b. Given that an individual was in the `control` group, what is the probability they converted?"
   ]
  },
  {
   "cell_type": "code",
   "execution_count": 16,
   "metadata": {},
   "outputs": [
    {
     "data": {
      "text/plain": [
       "0.1203863045004612"
      ]
     },
     "execution_count": 16,
     "metadata": {},
     "output_type": "execute_result"
    }
   ],
   "source": [
    "#Calculate converted portion in control group\n",
    "p_control_convert = df2[(df2['converted'] == 1) & (df2['group'] == 'control')]['user_id'].count() / df2[df2['group'] == 'control']['user_id'].count()\n",
    "p_control_convert"
   ]
  },
  {
   "cell_type": "markdown",
   "metadata": {},
   "source": [
    "c. Given that an individual was in the `treatment` group, what is the probability they converted?"
   ]
  },
  {
   "cell_type": "code",
   "execution_count": 17,
   "metadata": {},
   "outputs": [
    {
     "data": {
      "text/plain": [
       "0.11880806551510564"
      ]
     },
     "execution_count": 17,
     "metadata": {},
     "output_type": "execute_result"
    }
   ],
   "source": [
    "#Calculate converted portion in treatment group\n",
    "p_treament_convert = df2[(df2['converted'] == 1) & (df2['group'] == 'treatment')]['user_id'].count() / df2[df2['group'] == 'treatment']['user_id'].count()\n",
    "p_treament_convert"
   ]
  },
  {
   "cell_type": "markdown",
   "metadata": {},
   "source": [
    "d. What is the probability that an individual received the new page?"
   ]
  },
  {
   "cell_type": "code",
   "execution_count": 18,
   "metadata": {},
   "outputs": [
    {
     "data": {
      "text/plain": [
       "0.50006194422266881"
      ]
     },
     "execution_count": 18,
     "metadata": {},
     "output_type": "execute_result"
    }
   ],
   "source": [
    "#Calculate portion of user that received the new page\n",
    "p_newpage = df2[df2['landing_page'] == 'new_page']['user_id'].count() / df2['user_id'].count()\n",
    "p_newpage"
   ]
  },
  {
   "cell_type": "markdown",
   "metadata": {},
   "source": [
    "e. Observations:\n",
    "\n",
    "#### The probability of conversion differs slightly from the probability of an individual converting given they received old page (12.03%) to probability of an individual converting given they received new page (11.89%). It seems that old page could still lead to more conversions than new page. However, an inference cannot be drawn based on the current findings until the difference is proven to be statistically significant / insignificant."
   ]
  },
  {
   "cell_type": "markdown",
   "metadata": {},
   "source": [
    "<a id='ab_test'></a>\n",
    "### Part II - A/B Test\n",
    "\n",
    "`1.` Conduct hypothesis test by stating the null and alternative hypothesis:\n",
    "\n",
    "**Null**: P_old >= P_new\n",
    "\n",
    "**Alternative**: P_old < P_new"
   ]
  },
  {
   "cell_type": "markdown",
   "metadata": {},
   "source": [
    "`2.` Assume under the null hypothesis, $p_{new}$ and $p_{old}$ both have \"true\" success rates equal to the **converted** success rate regardless of page - that is $p_{new}$ and $p_{old}$ are equal. Furthermore, assume they are equal to the **converted** rate in **ab_data.csv** regardless of the page. <br><br>\n",
    "\n",
    "1. Use a sample size for each page equal to the ones in **ab_data.csv**.  <br><br>\n",
    "\n",
    "2. Perform the sampling distribution for the difference in **converted** between the two pages over 10,000 iterations of calculating an estimate from the null.  <br><br>\n",
    "\n",
    "3. Use the cells below to provide the necessary parts of this simulation.  If this doesn't make complete sense right now, don't worry - you are going to work through the problems below to complete this problem.  You can use **Quiz 5** in the classroom to make sure you are on the right track.<br><br>"
   ]
  },
  {
   "cell_type": "markdown",
   "metadata": {},
   "source": [
    "a. What is the **convert rate** for $p_{new}$ under the null? "
   ]
  },
  {
   "cell_type": "code",
   "execution_count": 19,
   "metadata": {},
   "outputs": [
    {
     "data": {
      "text/plain": [
       "0.11959708724499628"
      ]
     },
     "execution_count": 19,
     "metadata": {},
     "output_type": "execute_result"
    }
   ],
   "source": [
    "#Convert rate for p_new under Null is the same as converted rate in the dataset regardless of page \n",
    "p_new = p_convert\n",
    "p_new"
   ]
  },
  {
   "cell_type": "markdown",
   "metadata": {},
   "source": [
    "b. What is the **convert rate** for $p_{old}$ under the null? <br><br>"
   ]
  },
  {
   "cell_type": "code",
   "execution_count": 20,
   "metadata": {},
   "outputs": [
    {
     "data": {
      "text/plain": [
       "0.11959708724499628"
      ]
     },
     "execution_count": 20,
     "metadata": {},
     "output_type": "execute_result"
    }
   ],
   "source": [
    "#Convert rate for p_old under Null is the same as converted rate in the dataset regardless of page\n",
    "p_old = p_convert \n",
    "p_old"
   ]
  },
  {
   "cell_type": "markdown",
   "metadata": {},
   "source": [
    "c. What is $n_{new}$?"
   ]
  },
  {
   "cell_type": "code",
   "execution_count": 21,
   "metadata": {},
   "outputs": [
    {
     "data": {
      "text/plain": [
       "145310"
      ]
     },
     "execution_count": 21,
     "metadata": {},
     "output_type": "execute_result"
    }
   ],
   "source": [
    "#Find sample size of new page users\n",
    "new_group = df.query('group == \"treatment\" & landing_page == \"new_page\"')\n",
    "n_new = new_group.groupby('user_id')['user_id'].nunique().count()\n",
    "n_new"
   ]
  },
  {
   "cell_type": "markdown",
   "metadata": {},
   "source": [
    "d. What is $n_{old}$?"
   ]
  },
  {
   "cell_type": "code",
   "execution_count": 22,
   "metadata": {},
   "outputs": [
    {
     "data": {
      "text/plain": [
       "145274"
      ]
     },
     "execution_count": 22,
     "metadata": {},
     "output_type": "execute_result"
    }
   ],
   "source": [
    "#Find sample size of old page users\n",
    "old_group = df.query('group == \"control\" & landing_page == \"old_page\"')\n",
    "n_old = old_group.groupby('user_id')['user_id'].nunique().count()\n",
    "n_old"
   ]
  },
  {
   "cell_type": "markdown",
   "metadata": {},
   "source": [
    "e. Simulate $n_{new}$ transactions with a convert rate of $p_{new}$ under the null.  Store these $n_{new}$ 1's and 0's in **new_page_converted**."
   ]
  },
  {
   "cell_type": "code",
   "execution_count": 23,
   "metadata": {},
   "outputs": [
    {
     "data": {
      "text/plain": [
       "array([0, 0, 1, ..., 0, 0, 0])"
      ]
     },
     "execution_count": 23,
     "metadata": {},
     "output_type": "execute_result"
    }
   ],
   "source": [
    "#Simulate between 0 and 1 with the probability 11.9% as chances of getting 1, (1-11.9%) of getting 0, using new page size\n",
    "new_page_converted = np.random.choice([0, 1], n_new, replace=True, p = [1-p_new,p_new])\n",
    "new_page_converted"
   ]
  },
  {
   "cell_type": "markdown",
   "metadata": {},
   "source": [
    "f. Simulate $n_{old}$ transactions with a convert rate of $p_{old}$ under the null.  Store these $n_{old}$ 1's and 0's in **old_page_converted**."
   ]
  },
  {
   "cell_type": "code",
   "execution_count": 24,
   "metadata": {},
   "outputs": [
    {
     "data": {
      "text/plain": [
       "array([0, 0, 0, ..., 0, 0, 1])"
      ]
     },
     "execution_count": 24,
     "metadata": {},
     "output_type": "execute_result"
    }
   ],
   "source": [
    "#Simulate between 0 and 1 with the probability 11.9% as chances of getting 1, (1-11.9%) of getting 0, using old page size\n",
    "old_page_converted = np.random.choice([0, 1], n_old, replace=True, p = [1-p_old,p_old])\n",
    "old_page_converted"
   ]
  },
  {
   "cell_type": "markdown",
   "metadata": {},
   "source": [
    "g. Find $p_{new}$ - $p_{old}$ for your simulated values from part (e) and (f)."
   ]
  },
  {
   "cell_type": "code",
   "execution_count": 25,
   "metadata": {},
   "outputs": [
    {
     "data": {
      "text/plain": [
       "0.0019178954438892892"
      ]
     },
     "execution_count": 25,
     "metadata": {},
     "output_type": "execute_result"
    }
   ],
   "source": [
    "#Find difference in means between new page simulated conversion and old page simulated conversion\n",
    "diff = new_page_converted.mean() - old_page_converted.mean()\n",
    "diff"
   ]
  },
  {
   "cell_type": "markdown",
   "metadata": {},
   "source": [
    "h. Simulate 10,000 $p_{new}$ - $p_{old}$ values using this same process similarly to the one you calculated in parts **a. through g.** above.  Store all 10,000 values in **p_diffs**."
   ]
  },
  {
   "cell_type": "code",
   "execution_count": 26,
   "metadata": {},
   "outputs": [
    {
     "data": {
      "text/plain": [
       "[0.0020628011786852224,\n",
       " 0.00028714180462115213,\n",
       " 0.00028710599181119845,\n",
       " -0.00028419065854362602,\n",
       " 0.00057599656057562287,\n",
       " -0.001530204248688341,\n",
       " 0.00042472912538267515,\n",
       " 0.0024620620905881074,\n",
       " 0.0011887053252995633,\n",
       " 0.00090653117428790564,\n",
       " -0.00080033880282515124,\n",
       " 0.00028017640257059495,\n",
       " 0.0028404353231988172,\n",
       " -0.00058675963636760364,\n",
       " -0.00095193025867960912,\n",
       " 1.1605624254770741e-05,\n",
       " -0.0014061520857465287,\n",
       " 0.00087203330081229991,\n",
       " -0.00028427251639497053,\n",
       " 0.00052767873217256234,\n",
       " 0.0012436372491412551,\n",
       " 0.00027331161746228794,\n",
       " 0.00092042616557909407,\n",
       " -0.00080030810613090919,\n",
       " 2.5543249843509863e-05,\n",
       " -0.0016607426041760492,\n",
       " -0.00033933745924505376,\n",
       " -0.0021838851418304744,\n",
       " -0.0012820419401600308,\n",
       " 0.00035577771810091363,\n",
       " -0.0002362173152649083,\n",
       " 0.0003901715638904707,\n",
       " -0.0017159678519849952,\n",
       " -0.001571476522561413,\n",
       " 0.00066579812896770674,\n",
       " -0.0010139213800265112,\n",
       " -0.00066282310768354946,\n",
       " -0.0008628978130156284,\n",
       " -0.0018537529958872201,\n",
       " 0.00076866246716246478,\n",
       " 0.0030742711813445678,\n",
       " 0.0017874235979057768,\n",
       " 0.001987155523485426,\n",
       " -0.0011308989971159783,\n",
       " -0.0002635536689211404,\n",
       " 0.00010796671618457099,\n",
       " 0.0010439616008343783,\n",
       " 0.00030096517029241932,\n",
       " -8.9085785907466741e-06,\n",
       " 0.0022002503643226284,\n",
       " 0.00043850474064065226,\n",
       " -0.00070382081668030061,\n",
       " 0.0025650048758903976,\n",
       " -0.00082784910441546788,\n",
       " 0.00052778105448672563,\n",
       " 0.00091329022633825085,\n",
       " -0.00065607769860842602,\n",
       " 0.00059678703366936037,\n",
       " -0.00010547431514887351,\n",
       " 0.0013953173843346406,\n",
       " 0.00061038699562138143,\n",
       " 0.00080987505301895191,\n",
       " -0.0018604301900862347,\n",
       " 0.00082394399224419712,\n",
       " 0.00092713576184424995,\n",
       " 0.00058997511509002731,\n",
       " 0.00077579158491568323,\n",
       " 0.0013950274711111987,\n",
       " -0.00035333136210657923,\n",
       " -0.0024525684746918852,\n",
       " -0.0017913201832175513,\n",
       " 0.0015740541921922535,\n",
       " -0.0008348349709288716,\n",
       " -0.00012611812625897001,\n",
       " 0.00078253699399080667,\n",
       " -0.00056629318393537631,\n",
       " 0.00076199209445106109,\n",
       " 8.0777024511952122e-05,\n",
       " 0.0022760443868779512,\n",
       " -0.00014677387497237515,\n",
       " -0.00073176257736197459,\n",
       " -0.0019702207067777977,\n",
       " 0.0016017350309728284,\n",
       " -0.0002363997900584891,\n",
       " -0.00011919535850596352,\n",
       " -0.0019019156354471572,\n",
       " 0.0022553255394041349,\n",
       " 0.00039676007875055763,\n",
       " -0.00025698902926771239,\n",
       " 0.00032860337477542967,\n",
       " -2.2552880212217685e-05,\n",
       " 0.0015401702526015998,\n",
       " 0.0018492339498309834,\n",
       " -0.00057343082854811878,\n",
       " -0.00066257753412955755,\n",
       " 0.0012779219511290241,\n",
       " 0.00096165921589839998,\n",
       " -0.00083455358456492601,\n",
       " 0.00082373082075636039,\n",
       " -0.0015437615763427837,\n",
       " -0.00016747225798335874,\n",
       " 0.00010129463810125416,\n",
       " -0.0006629851180142976,\n",
       " 0.00056913177546731586,\n",
       " -7.0735984234987503e-05,\n",
       " 0.00012884245787342374,\n",
       " -0.00070426250800309509,\n",
       " -0.0012132627754404546,\n",
       " 0.002268971546397533,\n",
       " 0.00036940496600337824,\n",
       " 0.00045229570424576426,\n",
       " 0.0031847898918385548,\n",
       " 0.00045237074060949789,\n",
       " 0.0018080588821563631,\n",
       " -8.7397467723737687e-06,\n",
       " -0.00051835394809469915,\n",
       " 3.9260882456801371e-05,\n",
       " -0.002307877616755688,\n",
       " 0.00036951922592085018,\n",
       " -0.0022113971487926903,\n",
       " -0.0010895482761353742,\n",
       " -0.0013926476246210601,\n",
       " -0.0018605615037227408,\n",
       " -0.00030505616800106938,\n",
       " 0.0032397832090687306,\n",
       " -0.0015232883024229454,\n",
       " -0.00062853840569576658,\n",
       " -6.4043441688838021e-05,\n",
       " 0.00025955646666712962,\n",
       " 0.0025377384424821597,\n",
       " -0.00058024615787123646,\n",
       " -0.00057316990664700584,\n",
       " -0.00037387114553062706,\n",
       " 0.00097535979479268509,\n",
       " 0.0020625095600898674,\n",
       " 0.00024565294851644492,\n",
       " -0.00071093970220210967,\n",
       " -0.0015643883337338599,\n",
       " -0.00045674653542589205,\n",
       " -0.00090376761911968584,\n",
       " 0.00039720518081713674,\n",
       " -0.0013856225345539042,\n",
       " 0.00045214733689023789,\n",
       " -0.00064907477837600203,\n",
       " 0.0014707959130879772,\n",
       " -0.00059397402271595123,\n",
       " 0.00089237867183944442,\n",
       " -0.00024300876938139482,\n",
       " -0.0012754636575313671,\n",
       " 0.0013746172959517577,\n",
       " 0.00023185686879562128,\n",
       " 3.2244319249155606e-05,\n",
       " -0.0012065634114066942,\n",
       " 0.0006520822017263006,\n",
       " 0.0021038074145414976,\n",
       " 0.00019764720317155815,\n",
       " -0.00022925191321433724,\n",
       " -0.0027480918979858604,\n",
       " -0.00087616863819044155,\n",
       " 0.0017323296637333369,\n",
       " 0.0010716322073835438,\n",
       " 0.00073458582054680699,\n",
       " -0.002583142642989561,\n",
       " 0.0013538626356679739,\n",
       " 0.0023792856122631934,\n",
       " -2.9777498791988544e-05,\n",
       " -0.00024995200159723396,\n",
       " 0.00036251971643223857,\n",
       " 3.918414072118237e-05,\n",
       " 0.00022502107500965707,\n",
       " -0.0011376648706539344,\n",
       " -0.00032519177828420343,\n",
       " -0.00028414802424607533,\n",
       " 0.0010029417220028952,\n",
       " -0.00069723230182021367,\n",
       " 0.0017943122582207288,\n",
       " 0.00032832369378339721,\n",
       " 0.0011406057845000372,\n",
       " 7.360356708926985e-05,\n",
       " -0.00020858593226950883,\n",
       " 0.0013951263826815496,\n",
       " -9.8662396569526578e-05,\n",
       " 0.00047942570790179828,\n",
       " -0.0020464598313997134,\n",
       " 0.00041083242871960135,\n",
       " 0.0006654127149176986,\n",
       " 0.00039028923455175502,\n",
       " -0.0001536113741302525,\n",
       " 0.0022621323418677564,\n",
       " 0.001911627538946914,\n",
       " 0.00036934527798677952,\n",
       " 0.00056226357961521034,\n",
       " 0.0018288203639277439,\n",
       " 0.00099591151582002768,\n",
       " 0.0011680205852638015,\n",
       " 0.00072046060404876155,\n",
       " 0.00021828760353785615,\n",
       " -0.0015989493059698628,\n",
       " 0.00020412657422987091,\n",
       " -0.00017402154928969349,\n",
       " -0.00026368157181383411,\n",
       " 0.001456941850722468,\n",
       " 0.00027321441126383628,\n",
       " -0.0018329522905620871,\n",
       " -0.00084878794486473175,\n",
       " 0.0012847765040059217,\n",
       " 0.00054176131437301545,\n",
       " 0.0021315905756362219,\n",
       " -0.0011860423870735937,\n",
       " -0.00047694012835369781,\n",
       " 0.00021831488948828581,\n",
       " 8.0435950131421685e-05,\n",
       " -0.0025349544228510934,\n",
       " 0.00045213881003072776,\n",
       " -0.0010619902241317813,\n",
       " 0.00062430415674727402,\n",
       " -0.00038768768971426948,\n",
       " 0.0017323006724109941,\n",
       " 0.00082365237364884214,\n",
       " -0.00062151331562861067,\n",
       " -0.0011513620388044071,\n",
       " -0.00049083170890105998,\n",
       " -0.00060765925326310144,\n",
       " -0.0008558471423699282,\n",
       " -0.0002431503152493103,\n",
       " 3.2196568835879402e-05,\n",
       " 0.00086503890743939993,\n",
       " -0.00052485207824393143,\n",
       " 0.00061724836998587607,\n",
       " -0.0016056537861193348,\n",
       " -0.00052524772452534896,\n",
       " 0.00076883300435272306,\n",
       " -0.001158347905317797,\n",
       " -0.0009656325429457796,\n",
       " -0.00019495186287943334,\n",
       " 0.00067934181364694146,\n",
       " 0.0015052153394560785,\n",
       " 5.3082542756155426e-05,\n",
       " -0.00094507400043082612,\n",
       " 0.00024567170760737833,\n",
       " 0.00019078753417894889,\n",
       " -0.00040825475908874698,\n",
       " 0.0001148570818714223,\n",
       " 0.0003900078481878233,\n",
       " -0.0006422645651685821,\n",
       " -0.0028308717870545869,\n",
       " 0.0012574333288620648,\n",
       " -0.00055250392570217743,\n",
       " -0.00044243202264666881,\n",
       " 0.00030774980292129495,\n",
       " -0.0013651509660059652,\n",
       " -0.0013784252019245907,\n",
       " -0.001020738414721542,\n",
       " -0.001564458253981868,\n",
       " -9.8672628800949846e-05,\n",
       " 0.0010096922471937303,\n",
       " 0.00078925000099977494,\n",
       " -0.0024592661333537325,\n",
       " 8.0384788974346977e-05,\n",
       " -0.001998227271591782,\n",
       " 0.00032814462973361491,\n",
       " 0.0016154168507761801,\n",
       " 0.00015616857929826033,\n",
       " -0.00081396263998381735,\n",
       " 0.00049347759340800934,\n",
       " -0.0003807256984075108,\n",
       " 0.00050703321569055271,\n",
       " -5.0298523125102967e-05,\n",
       " 0.00064509121909721301,\n",
       " 0.00036954992261510611,\n",
       " -0.0012891471827066181,\n",
       " 0.00063100693152483289,\n",
       " 0.00046586155875974478,\n",
       " 0.00047948027980268537,\n",
       " 0.00065844219675142979,\n",
       " 0.0016703300155269246,\n",
       " -0.0023010793411515768,\n",
       " -0.0011033102484181434,\n",
       " -0.00073163296909738162,\n",
       " 0.00084467477732132201,\n",
       " -0.0019156759023580133,\n",
       " 0.0016496759721854048,\n",
       " -0.00016699816459443684,\n",
       " 0.0011677357881560574,\n",
       " -0.0012408498187663763,\n",
       " -0.00058720814917799513,\n",
       " -0.00091740339388164671,\n",
       " -9.8282098635243953e-05,\n",
       " 0.00070001802682319314,\n",
       " 0.00092010896640518092,\n",
       " 0.0015809888975485686,\n",
       " -0.00016027151461023292,\n",
       " 0.00073416459368684517,\n",
       " -6.3908717308533425e-05,\n",
       " 0.0010165365678392047,\n",
       " 0.00077559376177496753,\n",
       " 0.00065159958147785468,\n",
       " -0.0010479553923446044,\n",
       " -0.00036016374514873106,\n",
       " 0.0012091427864094478,\n",
       " 0.0006450571116591447,\n",
       " 0.0018562078787410646,\n",
       " 0.00025948825179102075,\n",
       " -0.00094499725869520712,\n",
       " -0.0007385216294123198,\n",
       " -0.00010545043994222847,\n",
       " -0.00098638549785766416,\n",
       " 0.0017049506757795263,\n",
       " 0.0015533796843879011,\n",
       " 0.00041091940268662974,\n",
       " 0.00082391500092184045,\n",
       " 0.002723372437514221,\n",
       " 0.00046604062280951319,\n",
       " 0.0008234750149709591,\n",
       " -0.001358223082137261,\n",
       " 0.0018700329497842311,\n",
       " 0.0023173831702552328,\n",
       " 0.0032809565713714656,\n",
       " 0.00069321292973147097,\n",
       " -0.00029105203290813453,\n",
       " 0.00081688479473897291,\n",
       " -0.00062154742306666511,\n",
       " -0.0012614799869012649,\n",
       " 0.0025789800196609897,\n",
       " -0.0013509916420698931,\n",
       " -0.00049783462913348397,\n",
       " 0.0017875821974927264,\n",
       " -0.00025639555984559304,\n",
       " 0.0016842846948346979,\n",
       " 0.00018357996931821219,\n",
       " -0.00027057875898829631,\n",
       " 0.00044527573029433387,\n",
       " -0.0019017979647858591,\n",
       " -0.00085546172831993395,\n",
       " -0.00048387312833811369,\n",
       " 0.00034186396771881955,\n",
       " -0.00069030612332342256,\n",
       " -0.00057324664838262485,\n",
       " 0.00029396736617570696,\n",
       " 0.00028700708024084753,\n",
       " 0.0010991578573209954,\n",
       " -0.00037353859800960676,\n",
       " 0.00074139432838231378,\n",
       " -0.0011378746313979587,\n",
       " -0.00086945563118145941,\n",
       " 0.0004864473872251418,\n",
       " 0.00036272606643245053,\n",
       " 0.00058281530064255294,\n",
       " -0.0020876758279999991,\n",
       " -0.00075931039713414417,\n",
       " 5.2923943169205789e-05,\n",
       " -0.00082117532096025181,\n",
       " 0.0003145583107568295,\n",
       " 0.00021807613742193255,\n",
       " -0.0021356798679729866,\n",
       " -0.0010621385914873216,\n",
       " 0.001215901838459793,\n",
       " 0.0004588552277835084,\n",
       " -0.00035988576952861173,\n",
       " -0.00013299314359870029,\n",
       " 0.00073406397674458113,\n",
       " 0.00023167951011775212,\n",
       " -0.0005390438042461726,\n",
       " -0.00033958814891474343,\n",
       " -0.0010965068566983205,\n",
       " -0.00013294709855732334,\n",
       " -0.0027694110363694069,\n",
       " -0.0012825211496646782,\n",
       " 0.0010579879057620728,\n",
       " 0.00052095719830407006,\n",
       " -0.00021559908473334222,\n",
       " -0.00081415023089309591,\n",
       " 0.00085145258846260063,\n",
       " -0.0014134517406900055,\n",
       " 0.00028713839387735363,\n",
       " -0.00077989622559955507,\n",
       " 0.0031088764932500484,\n",
       " -0.00061461271771034998,\n",
       " 0.001925288894287433,\n",
       " -0.0018877682491143799,\n",
       " 0.0009958433009439327,\n",
       " -0.00048401467420602917,\n",
       " 0.0019248864265184046,\n",
       " -0.00012634323535011538,\n",
       " 1.1544230866272764e-05,\n",
       " -0.001474939777325629,\n",
       " 0.0015326761852612059,\n",
       " -0.00030485834486038144,\n",
       " -0.00031876356838296538,\n",
       " 0.0029366719229797361,\n",
       " 0.00096140341011301256,\n",
       " 0.0015327375786497038,\n",
       " -0.0005253364038642766,\n",
       " 0.00062439795220192718,\n",
       " 0.00064475185008856795,\n",
       " -0.00017422448854610695,\n",
       " -9.848503789167129e-05,\n",
       " -0.00097259965036824991,\n",
       " -0.00053203917864184935,\n",
       " 0.0010440110566195676,\n",
       " 0.0017804684280866151,\n",
       " 0.0015945581628063338,\n",
       " -0.00081432758957096507,\n",
       " 0.0019457553467196465,\n",
       " -0.0019289944779461027,\n",
       " -0.00024318953880307637,\n",
       " 0.00025270873527784288,\n",
       " 0.00010805880626732489,\n",
       " -6.3968405325118272e-05,\n",
       " 0.00041765799027415618,\n",
       " -0.00025662066893673841,\n",
       " -0.00053918364474217495,\n",
       " -0.00080739629495846232,\n",
       " 0.00034211295201659608,\n",
       " 0.00022480960889373347,\n",
       " -0.0011238312727512578,\n",
       " -0.00097284181317842944,\n",
       " 0.0025584300040055324,\n",
       " -0.00052511811626074212,\n",
       " 0.0011474978555587878,\n",
       " 0.00080993474103553675,\n",
       " -0.00046324807631893672,\n",
       " -0.0010689095811409755,\n",
       " -2.9791141767210316e-05,\n",
       " 0.0020145311006954381,\n",
       " 0.0016773465787345704,\n",
       " 0.00039690162461847311,\n",
       " -8.857417433658088e-06,\n",
       " 0.00026639908194070472,\n",
       " 0.00043836660551654916,\n",
       " 0.00037647269036809872,\n",
       " 8.7375771603462327e-05,\n",
       " 0.00034908176481097952,\n",
       " -0.0012135680370110313,\n",
       " 0.00012183271615340274,\n",
       " 0.0024754233004737614,\n",
       " -0.00017394651292597374,\n",
       " -0.00068362381300869635,\n",
       " 0.00040387214278474193,\n",
       " -0.0010756225881499576,\n",
       " 0.00067233889341451747,\n",
       " 0.00066539395582677907,\n",
       " -0.00096598726030153181,\n",
       " -0.00033920614560856155,\n",
       " 0.00019765743540298142,\n",
       " 0.0010510105661081792,\n",
       " 0.00054180906478630553,\n",
       " 0.0013746667517369332,\n",
       " -0.0004908692270829268,\n",
       " 0.00034880208381894706,\n",
       " 4.9830019566293737e-06,\n",
       " 0.0010784645904257095,\n",
       " -2.4360290200448054e-06,\n",
       " 9.4452022827692939e-05,\n",
       " -8.8881141279001374e-06,\n",
       " -0.0019223189891189735,\n",
       " -2.2590398394070621e-05,\n",
       " -5.730144335752696e-05,\n",
       " -0.00019487853188761284,\n",
       " -0.0010138309953156704,\n",
       " 0.00045903599720518995,\n",
       " 0.0009478989489875439,\n",
       " 0.0010369996095276335,\n",
       " -0.0014752058153424397,\n",
       " 0.0010922538486589084,\n",
       " 0.0025651498325021116,\n",
       " -0.00010520827713206282,\n",
       " -0.00067674026880945592,\n",
       " -0.00087616011133091753,\n",
       " -0.0013511144288468752,\n",
       " 0.00034867759167005186,\n",
       " 0.0014227373012141165,\n",
       " 0.00087216973056451763,\n",
       " 0.0014776641089400966,\n",
       " -0.0012750782434813729,\n",
       " 0.0012988522647187778,\n",
       " 0.0020832198807041735,\n",
       " 0.00070677707887352448,\n",
       " 0.0012369651710579382,\n",
       " -0.00042205936566909463,\n",
       " -5.7190594183853527e-05,\n",
       " -0.00010538563580991811,\n",
       " 0.00025265757412076817,\n",
       " 0.00077574895061811866,\n",
       " -6.4000807391273451e-05,\n",
       " -0.00089699321872220572,\n",
       " 0.0018767408406775016,\n",
       " 0.0018908438873407873,\n",
       " -0.00066960774031243897,\n",
       " -0.00025675880406085538,\n",
       " 0.00067937251034118351,\n",
       " 0.00071377147224643833,\n",
       " 0.00015628795533144391,\n",
       " 0.0017255296827573263,\n",
       " -0.0016540517670018129,\n",
       " 0.00028702754470368019,\n",
       " -0.0012753852104238628,\n",
       " 0.00090655334412265143,\n",
       " -4.3575283884711435e-05,\n",
       " -0.00041493365865967469,\n",
       " 0.00034892657596782839,\n",
       " 0.0011129863391079464,\n",
       " -0.00042862571069443578,\n",
       " -0.0012684607372989432,\n",
       " -0.00016024934477550101,\n",
       " 0.00055518391764716735,\n",
       " 0.00068622024173045637,\n",
       " -9.1625368899062032e-05,\n",
       " -0.0010206906643082797,\n",
       " 0.00064503494182441279,\n",
       " -0.00053889202614683385,\n",
       " -0.0012411073299236769,\n",
       " -0.00022245363761022596,\n",
       " -0.00036008359266931356,\n",
       " 0.0004866264512749241,\n",
       " 0.0005896169869904766,\n",
       " 0.00011489289468137598,\n",
       " -0.00032582106051627646,\n",
       " 0.0016911153725049505,\n",
       " 0.0017461155112227372,\n",
       " -0.00016042158733767242,\n",
       " -0.0002771553362450746,\n",
       " -0.0001740113170582841,\n",
       " -0.0021908710083438782,\n",
       " 0.00038324368002176645,\n",
       " 0.00019067497963337621,\n",
       " -0.0019982153339884734,\n",
       " 0.0024000556208940843,\n",
       " -0.0019910248228467431,\n",
       " 0.00048646273557226283,\n",
       " -0.00014650954232747759,\n",
       " -0.0016401618918263638,\n",
       " 0.0003007161859946289,\n",
       " 0.002048723712600467,\n",
       " -0.00024283652681923729,\n",
       " 0.0025169940144297992,\n",
       " 0.0011607584485021777,\n",
       " -0.003202359770094157,\n",
       " 0.0008168489819290331,\n",
       " -0.00069722206958880428,\n",
       " 0.00092704708250530843,\n",
       " -0.00098595403876629295,\n",
       " -0.00022906943842075644,\n",
       " -0.00080050081315591326,\n",
       " 0.00034880890530655795,\n",
       " -0.00073151870917989581,\n",
       " 0.00015623167805865756,\n",
       " 0.0017048619964405848,\n",
       " 0.00087187299585345102,\n",
       " 0.0027510635085262192,\n",
       " -0.0012479908741229173,\n",
       " 0.00017033643009385646,\n",
       " 0.00069979973921964478,\n",
       " -0.00068348567788457937,\n",
       " 0.00026633939392410599,\n",
       " 0.0011680717464208762,\n",
       " 0.00076211317585614391,\n",
       " 7.3920766263169124e-05,\n",
       " 0.0016223021003473059,\n",
       " -0.00093144504715646226,\n",
       " -0.00022235472603987505,\n",
       " 0.00035584763834892175,\n",
       " 6.6604057600644362e-05,\n",
       " 0.00089982839951034677,\n",
       " 0.00076210123825282139,\n",
       " -3.6260280594113681e-05,\n",
       " -0.00082833684077962544,\n",
       " 0.00013573964504788594,\n",
       " 0.0020078590226121212,\n",
       " -0.0010690630646122135,\n",
       " 0.0018766709204294935,\n",
       " -0.0027621847124177368,\n",
       " 0.00027353502118152018,\n",
       " 0.0023311161512156592,\n",
       " -0.0011309467475292406,\n",
       " 0.00018382042675649246,\n",
       " 0.0012159615264763779,\n",
       " 0.00074819430935832432,\n",
       " 0.0032807519267431529,\n",
       " -0.0018672813322193199,\n",
       " -0.00053903868813046096,\n",
       " -0.0002014056533592018,\n",
       " 0.00032822137146923391,\n",
       " 0.0029023292383472538,\n",
       " 0.00088568101317759718,\n",
       " 0.0015119726861345106,\n",
       " -0.00023605018881844853,\n",
       " 0.00061730294188676316,\n",
       " -0.0018124960703612691,\n",
       " -0.0011032778463519882,\n",
       " -0.0015026086785028953,\n",
       " 0.0021659434925001136,\n",
       " -0.0012891062537809528,\n",
       " 0.001319301663431971,\n",
       " -0.00010537710895040797,\n",
       " -0.001364751908980763,\n",
       " -1.9585248873105199e-06,\n",
       " -0.0018121447637493154,\n",
       " 0.00010112069016719738,\n",
       " 0.00022475674236474563,\n",
       " -9.8488448635469794e-05,\n",
       " 0.0012366343289088311,\n",
       " 0.00023187903863036707,\n",
       " -0.0018052936216162302,\n",
       " 0.000816862624904241,\n",
       " -0.00034592767947703995,\n",
       " -0.00020174672773973223,\n",
       " 0.00069979121236013464,\n",
       " -0.00045644468459912768,\n",
       " -0.0024041210380242178,\n",
       " 0.00075496188826817967,\n",
       " -0.00055278360669419602,\n",
       " 5.0972618741151887e-06,\n",
       " -0.00014657264108787482,\n",
       " 0.00087880770120976615,\n",
       " 0.0015327444001373008,\n",
       " -0.00021541490456786216,\n",
       " -0.00043574971233195647,\n",
       " 0.00020422548580022182,\n",
       " 0.00084407619178349103,\n",
       " 0.00023189268160557497,\n",
       " 0.0014432293342248742,\n",
       " -0.00086268464152779167,\n",
       " 0.0003833766990301718,\n",
       " 0.00062421206666454787,\n",
       " 2.5266979595275907e-05,\n",
       " -0.00013279190971417221,\n",
       " -8.4753762303144131e-05,\n",
       " 0.00097540754520594741,\n",
       " -0.0012889732347725474,\n",
       " 0.00013556569711381528,\n",
       " -0.0025488323604232338,\n",
       " -0.0019705089146293403,\n",
       " 0.00026608017739490619,\n",
       " 0.00076898137170826331,\n",
       " -0.00066961797254384836,\n",
       " 0.00025263540428603626,\n",
       " 0.0019320360087344418,\n",
       " -0.0014612357876875454,\n",
       " -0.00010522192010727072,\n",
       " -0.00045656747137612363,\n",
       " 0.0002456700022354652,\n",
       " 0.000638003030269646,\n",
       " 0.00058987279277586402,\n",
       " 0.00076872727129476126,\n",
       " -0.0004356439792739808,\n",
       " -0.001695341094593919,\n",
       " 0.00086510541694359566,\n",
       " 0.00028698320503421637,\n",
       " -0.00064229014574711252,\n",
       " -0.00013297267913585376,\n",
       " -0.00084182424818605994,\n",
       " 0.00041090405433950872,\n",
       " 0.0016838975754127905,\n",
       " 0.0017670304764653699,\n",
       " -0.00028406446102284544,\n",
       " 0.00054166581354647692,\n",
       " -0.0015986491605149977,\n",
       " 1.8685286222813735e-05,\n",
       " 0.0017529666533558225,\n",
       " 0.0030814736300896067,\n",
       " -0.0026379603069137808,\n",
       " 0.00090629753833725013,\n",
       " 0.0015600159496612503,\n",
       " -0.00049785168285251813,\n",
       " 0.0014019365958889696,\n",
       " 6.6668861732954721e-05,\n",
       " 0.0022208737109699062,\n",
       " 0.00012879982357585917,\n",
       " -0.0011379053280922008,\n",
       " -0.0003324010485168255,\n",
       " -0.0022249442442157374,\n",
       " -7.1239068946266082e-05,\n",
       " 0.00067901949835733055,\n",
       " -0.0021496771815783106,\n",
       " 0.0019458968925875758,\n",
       " 0.00050714235949232689,\n",
       " 0.00088558039623533313,\n",
       " 0.0001287537785344961,\n",
       " -0.00025692251976350278,\n",
       " 0.0014225462995610255,\n",
       " 0.0013470916460143201,\n",
       " -0.0012409674894276745,\n",
       " -0.00012582821303551428,\n",
       " -8.441950941022458e-05,\n",
       " 0.00049318768018456749,\n",
       " 0.00055549429533344186,\n",
       " -0.00096545177352411193,\n",
       " -0.001550691165583401,\n",
       " 8.7783355488188497e-05,\n",
       " -9.844069822219359e-05,\n",
       " -0.0017986454187395584,\n",
       " 0.00078260520886690166,\n",
       " 0.00083069622280693145,\n",
       " 0.00047250635089260418,\n",
       " -0.0015026052677590829,\n",
       " -0.001798497051384032,\n",
       " -0.0015092790512142851,\n",
       " 0.0007894972799256661,\n",
       " -1.978989350129301e-06,\n",
       " -0.00069043061547231777,\n",
       " 0.00028700025875323665,\n",
       " 0.0002113119692558757,\n",
       " 0.0016770413171640075,\n",
       " -0.0014061708448374621,\n",
       " 0.00029402705419230568,\n",
       " -2.2612568228802532e-05,\n",
       " 0.00064512873727906594,\n",
       " -0.00029802425644631647,\n",
       " -0.001171871125534199,\n",
       " 0.00043144724850735505,\n",
       " 0.00010105759140678627,\n",
       " -0.0020252771227683847,\n",
       " 0.0015602973360251959,\n",
       " 0.0013468938228736183,\n",
       " -0.00025676562554845239,\n",
       " 0.0014227611764207615,\n",
       " -0.0028307848130875446,\n",
       " -2.9397200857692041e-05,\n",
       " 0.00022518479071231834,\n",
       " -0.0015160415140084427,\n",
       " 0.00052086681359322928,\n",
       " -0.00013991250060788052,\n",
       " -0.0010966432864505382,\n",
       " 0.0014639976374838798,\n",
       " -0.00018089656662940989,\n",
       " -0.00035968283027219827,\n",
       " -0.00047709190645303656,\n",
       " -0.0017710072142565481,\n",
       " -0.0030921548480302569,\n",
       " 0.0017045857261923508,\n",
       " -0.001137698978091975,\n",
       " -0.0018605052264499544,\n",
       " -0.0012134998221349225,\n",
       " 0.0010441031467023076,\n",
       " 0.0026477114339673036,\n",
       " -0.00027729688211299008,\n",
       " -0.00048388336056953696,\n",
       " -0.0014198492538970015,\n",
       " -0.00032580400679724231,\n",
       " 0.0014019741140708364,\n",
       " -0.00060751259127947432,\n",
       " 0.001353809769139,\n",
       " 0.0018492100746243662,\n",
       " 0.00086515316735685799,\n",
       " -0.0034299294286694176,\n",
       " 0.0017735661247964551,\n",
       " -0.0010755884807119032,\n",
       " 0.00093396473414260328,\n",
       " -0.00097256554293019548,\n",
       " 0.00028001098149603443,\n",
       " 0.0007069714912704278,\n",
       " -0.00073191435546131334,\n",
       " -0.00095896558097818829,\n",
       " 5.9867175385044935e-05,\n",
       " 0.00061055753281163971,\n",
       " 0.0010647316094652831,\n",
       " 0.00054846238377867507,\n",
       " -0.00047692307463467754,\n",
       " 0.00063804907531102295,\n",
       " 0.00016989644414297511,\n",
       " 0.0018766282861319289,\n",
       " -0.00091061364513705945,\n",
       " -0.0018949775193470297,\n",
       " -0.00084885957048462524,\n",
       " 0.0025788214200740539,\n",
       " -0.00055967908849675896,\n",
       " -0.00015337603280768386,\n",
       " -0.00016062793733789826,\n",
       " 0.00045212857779931837,\n",
       " -0.00064199682177985828,\n",
       " -0.00044257015777078579,\n",
       " -0.00061465535200790067,\n",
       " -0.0012135731531267291,\n",
       " -0.00089003122741546092,\n",
       " -0.0015712087791726892,\n",
       " -0.0011928918238347797,\n",
       " 0.00084460144632951539,\n",
       " -0.00030460424444687939,\n",
       " -0.0012343909121709101,\n",
       " 0.0010097399976069926,\n",
       " 0.0019388837401237285,\n",
       " 0.00030741725540028852,\n",
       " 0.00031456513224444038,\n",
       " -0.001991224351359358,\n",
       " -0.0003944177504422719,\n",
       " 0.00012871626035264316,\n",
       " -1.5954133120721359e-05,\n",
       " 0.0012780788453440606,\n",
       " -0.00073839031577582759,\n",
       " 0.00039677883784147716,\n",
       " 0.00056220048085479923,\n",
       " 0.0014360081263889296,\n",
       " 0.00067926166116751008,\n",
       " 0.00064500083438637223,\n",
       " 0.00094105803908586805,\n",
       " -0.0009174869571048766,\n",
       " -0.0016124725261862649,\n",
       " 8.7128492677571168e-05,\n",
       " 0.00076162543949198636,\n",
       " -2.9622309948851289e-05,\n",
       " 0.0012160365628400976,\n",
       " -0.00043591001729079148,\n",
       " 0.00086533905289425117,\n",
       " -0.0024389224676985011,\n",
       " 0.0016635061593442829,\n",
       " -0.00056634093434865251,\n",
       " 0.00038298446349255277,\n",
       " -0.0033746376713562759,\n",
       " 0.00076880060228656788,\n",
       " -0.00060094283551032079,\n",
       " 0.001243690115670229,\n",
       " -0.0011653798168725638,\n",
       " 0.002234724362591603,\n",
       " -0.0015711525018999167,\n",
       " -0.00071796820301306408,\n",
       " 0.00056221582920193414,\n",
       " 0.0012437037586454508,\n",
       " -0.00043594753547264442,\n",
       " 0.0011680870947679972,\n",
       " -0.00035312842285017965,\n",
       " -0.00048363778701554505,\n",
       " 0.0010027933546473689,\n",
       " -0.00030488051469511335,\n",
       " 0.0028474092521088984,\n",
       " 0.00043820800592959952,\n",
       " -0.00064219805566437249,\n",
       " 0.00041072328491784105,\n",
       " 0.00038332383250119784,\n",
       " 0.00095448234773190532,\n",
       " -0.00022939686982606511,\n",
       " 0.00064470751041910412,\n",
       " -0.0015712343597512335,\n",
       " -0.00055261648024775012,\n",
       " -0.00032545270018530248,\n",
       " 0.00081006776004395598,\n",
       " 0.0019317307471638789,\n",
       " -3.6729257867337828e-05,\n",
       " -5.7069512778756826e-05,\n",
       " 0.0011404761762354304,\n",
       " 0.0018356510415980104,\n",
       " 0.00096820168571710996,\n",
       " 0.00098175560262776795,\n",
       " -0.00069690657578681814,\n",
       " -0.001399212264274502,\n",
       " 0.0011335039526972623,\n",
       " -0.00021533986820414242,\n",
       " 0.00039726145808992308,\n",
       " 0.00032131906817907396,\n",
       " -0.00069745570553947367,\n",
       " -0.00138542130066939,\n",
       " -0.001502407444618381,\n",
       " 0.00012192139549234426,\n",
       " -0.00053201189269140581,\n",
       " 0.00078915791091702103,\n",
       " -0.00069024984605062234,\n",
       " 0.0015946997086742493,\n",
       " 6.6853041898434773e-05,\n",
       " 0.00088584472888024457,\n",
       " -0.0013373967962335837,\n",
       " -0.0018193199265439108,\n",
       " -0.00076643098802785248,\n",
       " 0.00098911835633162803,\n",
       " -0.00061452915448712009,\n",
       " 0.00021129832628065393,\n",
       " 0.0007341987011248996,\n",
       " 0.0014571362631193713,\n",
       " -8.4590046600496738e-05,\n",
       " 0.0020833784802911232,\n",
       " -0.0016263061240889415,\n",
       " 0.00057624383950151403,\n",
       " -0.00029818967752086312,\n",
       " -0.00032577501547489951,\n",
       " -0.0004905366795619065,\n",
       " 0.00067931111695268553,\n",
       " -0.0010414419138482373,\n",
       " 0.0006381241116747427,\n",
       " 0.0017051774902425709,\n",
       " -0.00042198603467728801,\n",
       " -0.00012593735683728846,\n",
       " 0.00083052739098855854,\n",
       " -0.00043584350778658187,\n",
       " -1.6085446757227451e-05,\n",
       " -0.00049769819938128013,\n",
       " 0.00013538492769213373,\n",
       " -0.002025647188471244,\n",
       " -0.002190608381070866,\n",
       " 5.3218972508359275e-05,\n",
       " -0.0019084785697286999,\n",
       " -0.0011101784442702489,\n",
       " -0.002438446668937666,\n",
       " -0.0015852384948441683,\n",
       " -0.0016332988120899422,\n",
       " -0.00078016567436017814,\n",
       " -1.6015526509219336e-05,\n",
       " -0.0002569378681106238,\n",
       " -9.8309384585687498e-05,\n",
       " 0.00062401765426763067,\n",
       " 0.0012781692300549152,\n",
       " 0.00019074148913758582,\n",
       " -0.00071807905218673751,\n",
       " -2.2859562926053067e-06,\n",
       " -0.00023619002931446476,\n",
       " -0.00082101501600140292,\n",
       " 0.00052777423299911475,\n",
       " -0.00080704328297460937,\n",
       " 5.9824541087480365e-05,\n",
       " -0.00071797843524448735,\n",
       " 0.0022967240107980152,\n",
       " 0.0034530502924681183,\n",
       " -0.00091062899348418047,\n",
       " -0.00057356555292842337,\n",
       " -0.0013650043040223381,\n",
       " 0.00045191370093958239,\n",
       " 0.00099593539102667272,\n",
       " 0.001168278096421102,\n",
       " 0.00049334627977150325,\n",
       " -0.00049751572458769933,\n",
       " -0.001041124714674338,\n",
       " 0.0011747250654132596,\n",
       " 0.00076850045683171664,\n",
       " -0.00015388934975038571,\n",
       " -0.0020324096512654016,\n",
       " 0.00096833470472552918,\n",
       " 0.0019800997367240281,\n",
       " 0.00074095093168763393,\n",
       " -0.00053204770550135949,\n",
       " 0.0010234832107988423,\n",
       " 0.0023241780351155455,\n",
       " -0.0042694404346124426,\n",
       " -0.00011241584199279953,\n",
       " 0.0011474398729140883,\n",
       " -0.00040130129464151232,\n",
       " -0.002342186193950116,\n",
       " 4.7783573283166625e-06,\n",
       " 0.0008168199906066903,\n",
       " 0.00055540220525070183,\n",
       " 0.0020971148719953481,\n",
       " -0.00088294133321599466,\n",
       " 0.00055562219822613557,\n",
       " 0.00046576435256127924,\n",
       " -2.2912713683681529e-05,\n",
       " 0.0003899890890968899,\n",
       " -0.0013304672069929663,\n",
       " 0.0011474927394430762,\n",
       " 0.00094769600973113044,\n",
       " 0.0007686334758401081,\n",
       " 0.00075507444281375236,\n",
       " 0.00083768208932032129,\n",
       " 0.0014087485144683026,\n",
       " -0.0004012313743935042,\n",
       " 0.0013741773100008764,\n",
       " 0.0013125050931997728,\n",
       " 0.00012166900045075535,\n",
       " 0.0002320325221015912,\n",
       " -0.00029074336059375927,\n",
       " 0.00012212092400494534,\n",
       " 0.0017872155425336517,\n",
       " -0.00017408294267817759,\n",
       " 0.00057613640107165298,\n",
       " -0.00054604331373478421,\n",
       " 0.0012228484814194307,\n",
       " -0.00046326854078176938,\n",
       " 0.00068604117768068795,\n",
       " -0.00091733688437745098,\n",
       " -7.0944039607112597e-05,\n",
       " 0.0017875600276579945,\n",
       " -0.001406215184506926,\n",
       " 1.8550561842495261e-05,\n",
       " -0.000401413849187085,\n",
       " 0.00015622315119914743,\n",
       " -0.0010139537820926525,\n",
       " -0.0013374002069773822,\n",
       " 0.00094086533206087786,\n",
       " 0.0016291771176870362,\n",
       " 0.0006309523596239458,\n",
       " 0.0003073251653175485,\n",
       " -0.0029274000054308608,\n",
       " -0.0013513582970289539,\n",
       " -0.0012274169832608289,\n",
       " 0.0012370043946117043,\n",
       " 0.00094784949320235456,\n",
       " -0.0015229148259762598,\n",
       " 0.00092011919863660419,\n",
       " -0.00013288911591262387,\n",
       " -0.00068357947333923252,\n",
       " 0.0016289827052901329,\n",
       " 0.00027320417903241301,\n",
       " 0.0013401859319803477,\n",
       " -0.00040846963594849683,\n",
       " -0.000112250420918239,\n",
       " -0.001550744032112375,\n",
       " -0.0012548556592312382,\n",
       " 0.00033523622930496655,\n",
       " -0.0020461989094986144,\n",
       " 0.0010717021276315519,\n",
       " -0.00035277882161012519,\n",
       " 0.0016842795787189863,\n",
       " 0.00059002116013140427,\n",
       " 0.00046619240090885194,\n",
       " ...]"
      ]
     },
     "execution_count": 26,
     "metadata": {},
     "output_type": "execute_result"
    }
   ],
   "source": [
    "p_diffs = []\n",
    "#Simulate for 10,000 times and record the difference between new page and old page simulated conversion means\n",
    "for _ in range(10000):\n",
    "    new_convert = np.random.choice([0, 1], n_new, replace=True, p = [1-p_new,p_new])\n",
    "    old_convert = np.random.choice([0, 1], n_old, replace=True, p = [1-p_old,p_old])\n",
    "    p_diffs.append(new_convert.mean() - old_convert.mean())\n",
    "p_diffs    "
   ]
  },
  {
   "cell_type": "markdown",
   "metadata": {},
   "source": [
    "i. Plot a histogram of the **p_diffs**."
   ]
  },
  {
   "cell_type": "code",
   "execution_count": 27,
   "metadata": {},
   "outputs": [
    {
     "data": {
      "image/png": "[encoded data removed]",
      "text/plain": [
       "<matplotlib.figure.Figure at 0x7f011ace3438>"
      ]
     },
     "metadata": {
      "needs_background": "light"
     },
     "output_type": "display_data"
    }
   ],
   "source": [
    "p_diffs = np.array(p_diffs)\n",
    "#Observe the distribution of p_diffs\n",
    "plt.hist(p_diffs)\n",
    "plt.show()"
   ]
  },
  {
   "cell_type": "markdown",
   "metadata": {},
   "source": [
    "j. What proportion of the **p_diffs** are greater than the actual difference observed in **ab_data.csv**?"
   ]
  },
  {
   "cell_type": "code",
   "execution_count": 28,
   "metadata": {},
   "outputs": [
    {
     "data": {
      "text/plain": [
       "0.90680000000000005"
      ]
     },
     "execution_count": 28,
     "metadata": {},
     "output_type": "execute_result"
    }
   ],
   "source": [
    "actual_diff = p_treament_convert - p_control_convert\n",
    "\n",
    "#Calculate proportion of p_diffs values that are greater than previously observed actual difference\n",
    "proportion = (p_diffs > actual_diff).mean()\n",
    "proportion"
   ]
  },
  {
   "cell_type": "markdown",
   "metadata": {},
   "source": [
    "k. Observations:\n",
    "\n",
    "#### Part j computes the probability of the event new page conversion > old page conversion given old page conversion >= new page conversion.\n",
    "\n",
    "#### The value computed is called p value, if the p value < alpha (0.05), the difference is said to be significant between new page conversion and old page conversion. In this case, p value > alpha, which means we fail to reject Null."
   ]
  },
  {
   "cell_type": "markdown",
   "metadata": {},
   "source": [
    "l. Test the results with statsmodels library."
   ]
  },
  {
   "cell_type": "code",
   "execution_count": 29,
   "metadata": {},
   "outputs": [
    {
     "name": "stderr",
     "output_type": "stream",
     "text": [
      "/opt/conda/lib/python3.6/site-packages/statsmodels/compat/pandas.py:56: FutureWarning: The pandas.core.datetools module is deprecated and will be removed in a future version. Please use the pandas.tseries module instead.\n",
      "  from pandas.core import datetools\n"
     ]
    },
    {
     "name": "stdout",
     "output_type": "stream",
     "text": [
      "conversion with old page:  17489\n",
      "conversion with new page:  17264\n",
      "number received old pages:  145274\n",
      "number received new pages:  145310\n"
     ]
    }
   ],
   "source": [
    "import statsmodels.api as sm\n",
    "\n",
    "#Get conversion rates for both new page and old page users\n",
    "convert_old = df2[(df2['converted'] == 1) & (df2['landing_page'] == 'old_page')].groupby('user_id').user_id.nunique().count()\n",
    "convert_new = df2[(df2['converted'] == 1) & (df2['landing_page'] == 'new_page')].groupby('user_id').user_id.nunique().count()\n",
    "#Get samples sizes for both new page and old page users\n",
    "n_old = df2[df2['landing_page'] == 'old_page'].groupby('user_id').user_id.nunique().count()\n",
    "n_new = df2[df2['landing_page'] == 'new_page'].groupby('user_id').user_id.nunique().count()\n",
    "print(\"conversion with old page: \", convert_old)\n",
    "print(\"conversion with new page: \", convert_new)\n",
    "print(\"number received old pages: \", n_old)\n",
    "print(\"number received new pages: \", n_new)"
   ]
  },
  {
   "cell_type": "markdown",
   "metadata": {},
   "source": [
    "m. Use `stats.proportions_ztest` to compute test statistic and p-value."
   ]
  },
  {
   "cell_type": "code",
   "execution_count": 30,
   "metadata": {},
   "outputs": [
    {
     "name": "stdout",
     "output_type": "stream",
     "text": [
      "z score:  -1.31092419842\n",
      "p value:  0.905058312759\n"
     ]
    }
   ],
   "source": [
    "#Calculate z score and p_value\n",
    "z_score, p_value = sm.stats.proportions_ztest([convert_new, convert_old], [n_new, n_old], alternative = 'larger')\n",
    "print(\"z score: \", z_score)\n",
    "print(\"p value: \", p_value)"
   ]
  },
  {
   "cell_type": "markdown",
   "metadata": {},
   "source": [
    "n. Observation:\n",
    "\n",
    "#### z score measures the number of standard deviations between new page conversion and old page conversion. With alpha = 0.05, the critical z score is 1.64. If computed z score is larger than the critical z score, the Null will be rejected. In this case, computed z score < critical z score, we fail to reject the Null. It also means that the company should be advised to keep using the old page.\n",
    "\n",
    "#### p value (one-tail) measures the probability of the event new page conversion > old page conversion (Alternative) given that the event  old page conversion >= new page conversion (Null) is true. With alpha = 0.05, if p value < alpha, the Null will be rejected. In this case, p value  >  0.05, we fail to reject the Null. It also means that the company should be advised to keep using the old page.\n",
    "\n",
    "#### The results in j and k agree."
   ]
  },
  {
   "cell_type": "markdown",
   "metadata": {},
   "source": [
    "<a id='regression'></a>\n",
    "### Part III - A regression approach\n",
    "\n",
    "`1.` Achieve the same results through a regression <br><br>\n",
    "\n",
    "a. Logistic Regression."
   ]
  },
  {
   "cell_type": "markdown",
   "metadata": {},
   "source": [
    "b. The goal is to use **statsmodels** to fit the regression model you specified in part **a.** to see if there is a significant difference in conversion based on which page a customer receives.  However, you first need to create a colun for the intercept, and create a dummy variable column for which page each user received.  Add an **intercept** column, as well as an **ab_page** column, which is 1 when an individual receives the **treatment** and 0 if **control**."
   ]
  },
  {
   "cell_type": "code",
   "execution_count": 31,
   "metadata": {},
   "outputs": [
    {
     "data": {
      "text/html": [
       "<div>\n",
       "<style>\n",
       "    .dataframe thead tr:only-child th {\n",
       "        text-align: right;\n",
       "    }\n",
       "\n",
       "    .dataframe thead th {\n",
       "        text-align: left;\n",
       "    }\n",
       "\n",
       "    .dataframe tbody tr th {\n",
       "        vertical-align: top;\n",
       "    }\n",
       "</style>\n",
       "<table border=\"1\" class=\"dataframe\">\n",
       "  <thead>\n",
       "    <tr style=\"text-align: right;\">\n",
       "      <th></th>\n",
       "      <th>user_id</th>\n",
       "      <th>timestamp</th>\n",
       "      <th>group</th>\n",
       "      <th>landing_page</th>\n",
       "      <th>converted</th>\n",
       "      <th>intercept</th>\n",
       "      <th>holder</th>\n",
       "      <th>ab_page</th>\n",
       "    </tr>\n",
       "  </thead>\n",
       "  <tbody>\n",
       "    <tr>\n",
       "      <th>0</th>\n",
       "      <td>851104</td>\n",
       "      <td>2017-01-21 22:11:48.556739</td>\n",
       "      <td>control</td>\n",
       "      <td>old_page</td>\n",
       "      <td>0</td>\n",
       "      <td>1</td>\n",
       "      <td>1</td>\n",
       "      <td>0</td>\n",
       "    </tr>\n",
       "    <tr>\n",
       "      <th>1</th>\n",
       "      <td>804228</td>\n",
       "      <td>2017-01-12 08:01:45.159739</td>\n",
       "      <td>control</td>\n",
       "      <td>old_page</td>\n",
       "      <td>0</td>\n",
       "      <td>1</td>\n",
       "      <td>1</td>\n",
       "      <td>0</td>\n",
       "    </tr>\n",
       "    <tr>\n",
       "      <th>2</th>\n",
       "      <td>661590</td>\n",
       "      <td>2017-01-11 16:55:06.154213</td>\n",
       "      <td>treatment</td>\n",
       "      <td>new_page</td>\n",
       "      <td>0</td>\n",
       "      <td>1</td>\n",
       "      <td>0</td>\n",
       "      <td>1</td>\n",
       "    </tr>\n",
       "    <tr>\n",
       "      <th>3</th>\n",
       "      <td>853541</td>\n",
       "      <td>2017-01-08 18:28:03.143765</td>\n",
       "      <td>treatment</td>\n",
       "      <td>new_page</td>\n",
       "      <td>0</td>\n",
       "      <td>1</td>\n",
       "      <td>0</td>\n",
       "      <td>1</td>\n",
       "    </tr>\n",
       "    <tr>\n",
       "      <th>4</th>\n",
       "      <td>864975</td>\n",
       "      <td>2017-01-21 01:52:26.210827</td>\n",
       "      <td>control</td>\n",
       "      <td>old_page</td>\n",
       "      <td>1</td>\n",
       "      <td>1</td>\n",
       "      <td>1</td>\n",
       "      <td>0</td>\n",
       "    </tr>\n",
       "  </tbody>\n",
       "</table>\n",
       "</div>"
      ],
      "text/plain": [
       "   user_id                   timestamp      group landing_page  converted  \\\n",
       "0   851104  2017-01-21 22:11:48.556739    control     old_page          0   \n",
       "1   804228  2017-01-12 08:01:45.159739    control     old_page          0   \n",
       "2   661590  2017-01-11 16:55:06.154213  treatment     new_page          0   \n",
       "3   853541  2017-01-08 18:28:03.143765  treatment     new_page          0   \n",
       "4   864975  2017-01-21 01:52:26.210827    control     old_page          1   \n",
       "\n",
       "   intercept  holder  ab_page  \n",
       "0          1       1        0  \n",
       "1          1       1        0  \n",
       "2          1       0        1  \n",
       "3          1       0        1  \n",
       "4          1       1        0  "
      ]
     },
     "execution_count": 31,
     "metadata": {},
     "output_type": "execute_result"
    }
   ],
   "source": [
    "#Create intercept\n",
    "df2['intercept'] = 1\n",
    "#Create 2 columns to process group column, use 'holder' as the unused column, 'ab_page' as the testing column\n",
    "#for treatment as 1 and control as 0\n",
    "df2[['holder', 'ab_page']] = pd.get_dummies(df2['group'])\n",
    "df2.head()"
   ]
  },
  {
   "cell_type": "markdown",
   "metadata": {},
   "source": [
    "c. Fit the model."
   ]
  },
  {
   "cell_type": "code",
   "execution_count": 32,
   "metadata": {},
   "outputs": [
    {
     "name": "stdout",
     "output_type": "stream",
     "text": [
      "Optimization terminated successfully.\n",
      "         Current function value: 0.366118\n",
      "         Iterations 6\n"
     ]
    }
   ],
   "source": [
    "#Fit logistic model for the intercept and page\n",
    "model = sm.Logit(df2['converted'], df2[['intercept', 'ab_page']])\n",
    "result = model.fit()"
   ]
  },
  {
   "cell_type": "markdown",
   "metadata": {},
   "source": [
    "d. Model summary."
   ]
  },
  {
   "cell_type": "code",
   "execution_count": 33,
   "metadata": {},
   "outputs": [
    {
     "data": {
      "text/html": [
       "<table class=\"simpletable\">\n",
       "<caption>Logit Regression Results</caption>\n",
       "<tr>\n",
       "  <th>Dep. Variable:</th>     <td>converted</td>    <th>  No. Observations:  </th>   <td>290584</td>   \n",
       "</tr>\n",
       "<tr>\n",
       "  <th>Model:</th>               <td>Logit</td>      <th>  Df Residuals:      </th>   <td>290582</td>   \n",
       "</tr>\n",
       "<tr>\n",
       "  <th>Method:</th>               <td>MLE</td>       <th>  Df Model:          </th>   <td>     1</td>   \n",
       "</tr>\n",
       "<tr>\n",
       "  <th>Date:</th>          <td>Wed, 02 Jan 2019</td> <th>  Pseudo R-squ.:     </th>  <td>8.077e-06</td> \n",
       "</tr>\n",
       "<tr>\n",
       "  <th>Time:</th>              <td>18:17:03</td>     <th>  Log-Likelihood:    </th> <td>-1.0639e+05</td>\n",
       "</tr>\n",
       "<tr>\n",
       "  <th>converged:</th>           <td>True</td>       <th>  LL-Null:           </th> <td>-1.0639e+05</td>\n",
       "</tr>\n",
       "<tr>\n",
       "  <th> </th>                      <td> </td>        <th>  LLR p-value:       </th>   <td>0.1899</td>   \n",
       "</tr>\n",
       "</table>\n",
       "<table class=\"simpletable\">\n",
       "<tr>\n",
       "      <td></td>         <th>coef</th>     <th>std err</th>      <th>z</th>      <th>P>|z|</th>  <th>[0.025</th>    <th>0.975]</th>  \n",
       "</tr>\n",
       "<tr>\n",
       "  <th>intercept</th> <td>   -1.9888</td> <td>    0.008</td> <td> -246.669</td> <td> 0.000</td> <td>   -2.005</td> <td>   -1.973</td>\n",
       "</tr>\n",
       "<tr>\n",
       "  <th>ab_page</th>   <td>   -0.0150</td> <td>    0.011</td> <td>   -1.311</td> <td> 0.190</td> <td>   -0.037</td> <td>    0.007</td>\n",
       "</tr>\n",
       "</table>"
      ],
      "text/plain": [
       "<class 'statsmodels.iolib.summary.Summary'>\n",
       "\"\"\"\n",
       "                           Logit Regression Results                           \n",
       "==============================================================================\n",
       "Dep. Variable:              converted   No. Observations:               290584\n",
       "Model:                          Logit   Df Residuals:                   290582\n",
       "Method:                           MLE   Df Model:                            1\n",
       "Date:                Wed, 02 Jan 2019   Pseudo R-squ.:               8.077e-06\n",
       "Time:                        18:17:03   Log-Likelihood:            -1.0639e+05\n",
       "converged:                       True   LL-Null:                   -1.0639e+05\n",
       "                                        LLR p-value:                    0.1899\n",
       "==============================================================================\n",
       "                 coef    std err          z      P>|z|      [0.025      0.975]\n",
       "------------------------------------------------------------------------------\n",
       "intercept     -1.9888      0.008   -246.669      0.000      -2.005      -1.973\n",
       "ab_page       -0.0150      0.011     -1.311      0.190      -0.037       0.007\n",
       "==============================================================================\n",
       "\"\"\""
      ]
     },
     "execution_count": 33,
     "metadata": {},
     "output_type": "execute_result"
    }
   ],
   "source": [
    "#Show statistic output\n",
    "result.summary()"
   ]
  },
  {
   "cell_type": "markdown",
   "metadata": {},
   "source": [
    "e. Observation:\n",
    "\n",
    "#### The p value computed here is 0.19, it differs from the value above because Logistic Regression assumes a two-tail test with:\n",
    "\n",
    "**Null**: There is no difference between new page conversion and old page conversion\n",
    "\n",
    "**Alternative**: There is a difference between new page conversion and old page conversion\n",
    "\n",
    "#### Part II calculations assume a one-tail test with Alternative being new page conversion > old page conversion."
   ]
  },
  {
   "cell_type": "markdown",
   "metadata": {},
   "source": [
    "f. Other factors:\n",
    "\n",
    "#### Other factors that may influence whether or not an individual converts could include timing of conversion (seasonality) and age group of users. If the website sells commercial products, the conversion rates may differ significantly during the holidays because users tend to prefer red elements during the holidays, but not so much on normal days. If old page happens to contain red elements and the test period is near holidays, it could mislead the test results. Also, age groups may play a role in converting on old page over new page. If the treatment group happens to contain many older users, it could be possible that they will prefer old page due to change aversion. \n",
    "\n",
    "#### Adding additional terms may require furthur data processing to remove variables conlinearity, longer test periods, greater sample sizes, and more user information, which together reduces test praticality. "
   ]
  },
  {
   "cell_type": "markdown",
   "metadata": {},
   "source": [
    "g. Does country had an impact on conversion?"
   ]
  },
  {
   "cell_type": "code",
   "execution_count": 35,
   "metadata": {},
   "outputs": [
    {
     "name": "stdout",
     "output_type": "stream",
     "text": [
      "Optimization terminated successfully.\n",
      "         Current function value: 0.366116\n",
      "         Iterations 6\n"
     ]
    },
    {
     "data": {
      "text/html": [
       "<table class=\"simpletable\">\n",
       "<caption>Logit Regression Results</caption>\n",
       "<tr>\n",
       "  <th>Dep. Variable:</th>     <td>converted</td>    <th>  No. Observations:  </th>   <td>290584</td>   \n",
       "</tr>\n",
       "<tr>\n",
       "  <th>Model:</th>               <td>Logit</td>      <th>  Df Residuals:      </th>   <td>290581</td>   \n",
       "</tr>\n",
       "<tr>\n",
       "  <th>Method:</th>               <td>MLE</td>       <th>  Df Model:          </th>   <td>     2</td>   \n",
       "</tr>\n",
       "<tr>\n",
       "  <th>Date:</th>          <td>Wed, 02 Jan 2019</td> <th>  Pseudo R-squ.:     </th>  <td>1.521e-05</td> \n",
       "</tr>\n",
       "<tr>\n",
       "  <th>Time:</th>              <td>18:17:46</td>     <th>  Log-Likelihood:    </th> <td>-1.0639e+05</td>\n",
       "</tr>\n",
       "<tr>\n",
       "  <th>converged:</th>           <td>True</td>       <th>  LL-Null:           </th> <td>-1.0639e+05</td>\n",
       "</tr>\n",
       "<tr>\n",
       "  <th> </th>                      <td> </td>        <th>  LLR p-value:       </th>   <td>0.1984</td>   \n",
       "</tr>\n",
       "</table>\n",
       "<table class=\"simpletable\">\n",
       "<tr>\n",
       "      <td></td>         <th>coef</th>     <th>std err</th>      <th>z</th>      <th>P>|z|</th>  <th>[0.025</th>    <th>0.975]</th>  \n",
       "</tr>\n",
       "<tr>\n",
       "  <th>intercept</th> <td>   -1.9967</td> <td>    0.007</td> <td> -292.314</td> <td> 0.000</td> <td>   -2.010</td> <td>   -1.983</td>\n",
       "</tr>\n",
       "<tr>\n",
       "  <th>CA</th>        <td>   -0.0408</td> <td>    0.027</td> <td>   -1.518</td> <td> 0.129</td> <td>   -0.093</td> <td>    0.012</td>\n",
       "</tr>\n",
       "<tr>\n",
       "  <th>UK</th>        <td>    0.0099</td> <td>    0.013</td> <td>    0.746</td> <td> 0.456</td> <td>   -0.016</td> <td>    0.036</td>\n",
       "</tr>\n",
       "</table>"
      ],
      "text/plain": [
       "<class 'statsmodels.iolib.summary.Summary'>\n",
       "\"\"\"\n",
       "                           Logit Regression Results                           \n",
       "==============================================================================\n",
       "Dep. Variable:              converted   No. Observations:               290584\n",
       "Model:                          Logit   Df Residuals:                   290581\n",
       "Method:                           MLE   Df Model:                            2\n",
       "Date:                Wed, 02 Jan 2019   Pseudo R-squ.:               1.521e-05\n",
       "Time:                        18:17:46   Log-Likelihood:            -1.0639e+05\n",
       "converged:                       True   LL-Null:                   -1.0639e+05\n",
       "                                        LLR p-value:                    0.1984\n",
       "==============================================================================\n",
       "                 coef    std err          z      P>|z|      [0.025      0.975]\n",
       "------------------------------------------------------------------------------\n",
       "intercept     -1.9967      0.007   -292.314      0.000      -2.010      -1.983\n",
       "CA            -0.0408      0.027     -1.518      0.129      -0.093       0.012\n",
       "UK             0.0099      0.013      0.746      0.456      -0.016       0.036\n",
       "==============================================================================\n",
       "\"\"\""
      ]
     },
     "execution_count": 35,
     "metadata": {},
     "output_type": "execute_result"
    }
   ],
   "source": [
    "#Read countries.csv to dataframe and perform a left join with df2 to preserve all rows in df2 and join on the same user ids\n",
    "country = pd.read_csv(\"countries.csv\")\n",
    "combined = pd.merge(df2, country, how=\"left\", left_on = \"user_id\", right_on = \"user_id\")\n",
    "combined[['CA', 'UK', 'US']] = pd.get_dummies(combined['country'])\n",
    "\n",
    "#Fit logistic regression on new model adding 2 of the 3 country variables\n",
    "new_model = sm.Logit(combined['converted'], combined[['intercept', 'CA', 'UK']])\n",
    "new_result = new_model.fit()\n",
    "new_result.summary()"
   ]
  },
  {
   "cell_type": "markdown",
   "metadata": {},
   "source": [
    "Observation:\n",
    "    \n",
    "---\n",
    "#### It does not seem that country had an impact on conversion because both CA and UK show p values greater than alpha (0.05)."
   ]
  },
  {
   "cell_type": "markdown",
   "metadata": {},
   "source": [
    "h. Summary output."
   ]
  },
  {
   "cell_type": "code",
   "execution_count": 36,
   "metadata": {},
   "outputs": [
    {
     "name": "stdout",
     "output_type": "stream",
     "text": [
      "Optimization terminated successfully.\n",
      "         Current function value: 0.366109\n",
      "         Iterations 6\n"
     ]
    },
    {
     "data": {
      "text/html": [
       "<table class=\"simpletable\">\n",
       "<caption>Logit Regression Results</caption>\n",
       "<tr>\n",
       "  <th>Dep. Variable:</th>     <td>converted</td>    <th>  No. Observations:  </th>   <td>290584</td>   \n",
       "</tr>\n",
       "<tr>\n",
       "  <th>Model:</th>               <td>Logit</td>      <th>  Df Residuals:      </th>   <td>290578</td>   \n",
       "</tr>\n",
       "<tr>\n",
       "  <th>Method:</th>               <td>MLE</td>       <th>  Df Model:          </th>   <td>     5</td>   \n",
       "</tr>\n",
       "<tr>\n",
       "  <th>Date:</th>          <td>Wed, 02 Jan 2019</td> <th>  Pseudo R-squ.:     </th>  <td>3.482e-05</td> \n",
       "</tr>\n",
       "<tr>\n",
       "  <th>Time:</th>              <td>18:19:29</td>     <th>  Log-Likelihood:    </th> <td>-1.0639e+05</td>\n",
       "</tr>\n",
       "<tr>\n",
       "  <th>converged:</th>           <td>True</td>       <th>  LL-Null:           </th> <td>-1.0639e+05</td>\n",
       "</tr>\n",
       "<tr>\n",
       "  <th> </th>                      <td> </td>        <th>  LLR p-value:       </th>   <td>0.1920</td>   \n",
       "</tr>\n",
       "</table>\n",
       "<table class=\"simpletable\">\n",
       "<tr>\n",
       "      <td></td>         <th>coef</th>     <th>std err</th>      <th>z</th>      <th>P>|z|</th>  <th>[0.025</th>    <th>0.975]</th>  \n",
       "</tr>\n",
       "<tr>\n",
       "  <th>intercept</th> <td>   -1.9865</td> <td>    0.010</td> <td> -206.344</td> <td> 0.000</td> <td>   -2.005</td> <td>   -1.968</td>\n",
       "</tr>\n",
       "<tr>\n",
       "  <th>ab_page</th>   <td>   -0.0206</td> <td>    0.014</td> <td>   -1.505</td> <td> 0.132</td> <td>   -0.047</td> <td>    0.006</td>\n",
       "</tr>\n",
       "<tr>\n",
       "  <th>CA</th>        <td>   -0.0175</td> <td>    0.038</td> <td>   -0.465</td> <td> 0.642</td> <td>   -0.091</td> <td>    0.056</td>\n",
       "</tr>\n",
       "<tr>\n",
       "  <th>UK</th>        <td>   -0.0057</td> <td>    0.019</td> <td>   -0.306</td> <td> 0.760</td> <td>   -0.043</td> <td>    0.031</td>\n",
       "</tr>\n",
       "<tr>\n",
       "  <th>page_CA</th>   <td>   -0.0469</td> <td>    0.054</td> <td>   -0.872</td> <td> 0.383</td> <td>   -0.152</td> <td>    0.059</td>\n",
       "</tr>\n",
       "<tr>\n",
       "  <th>page_UK</th>   <td>    0.0314</td> <td>    0.027</td> <td>    1.181</td> <td> 0.238</td> <td>   -0.021</td> <td>    0.084</td>\n",
       "</tr>\n",
       "</table>"
      ],
      "text/plain": [
       "<class 'statsmodels.iolib.summary.Summary'>\n",
       "\"\"\"\n",
       "                           Logit Regression Results                           \n",
       "==============================================================================\n",
       "Dep. Variable:              converted   No. Observations:               290584\n",
       "Model:                          Logit   Df Residuals:                   290578\n",
       "Method:                           MLE   Df Model:                            5\n",
       "Date:                Wed, 02 Jan 2019   Pseudo R-squ.:               3.482e-05\n",
       "Time:                        18:19:29   Log-Likelihood:            -1.0639e+05\n",
       "converged:                       True   LL-Null:                   -1.0639e+05\n",
       "                                        LLR p-value:                    0.1920\n",
       "==============================================================================\n",
       "                 coef    std err          z      P>|z|      [0.025      0.975]\n",
       "------------------------------------------------------------------------------\n",
       "intercept     -1.9865      0.010   -206.344      0.000      -2.005      -1.968\n",
       "ab_page       -0.0206      0.014     -1.505      0.132      -0.047       0.006\n",
       "CA            -0.0175      0.038     -0.465      0.642      -0.091       0.056\n",
       "UK            -0.0057      0.019     -0.306      0.760      -0.043       0.031\n",
       "page_CA       -0.0469      0.054     -0.872      0.383      -0.152       0.059\n",
       "page_UK        0.0314      0.027      1.181      0.238      -0.021       0.084\n",
       "==============================================================================\n",
       "\"\"\""
      ]
     },
     "execution_count": 36,
     "metadata": {},
     "output_type": "execute_result"
    }
   ],
   "source": [
    "#Create interaction between page and CA, and page and UK\n",
    "combined['page_CA'] = combined['ab_page'] * combined['CA']\n",
    "combined['page_UK'] = combined['ab_page'] * combined['UK']\n",
    "\n",
    "#Fit logistic regression on interact model adding the 2 interact terms, 2 of the 3 countries and page\n",
    "interact_model = sm.Logit(combined['converted'], combined[['intercept', 'ab_page', 'CA', 'UK', 'page_CA', 'page_UK']])\n",
    "interact_result = interact_model.fit()\n",
    "interact_result.summary()"
   ]
  },
  {
   "cell_type": "markdown",
   "metadata": {},
   "source": [
    "Observation:\n",
    "\n",
    "---\n",
    "#### It seems that the interaction between page and country also does not have impact on conversions because their p values > 0.05."
   ]
  },
  {
   "cell_type": "markdown",
   "metadata": {},
   "source": [
    "Conclusion:\n",
    "    \n",
    "#### Based on the test results, it is recommended that the company keep using the old page because the new page did not generate significant conversion difference. However, it is worth exploring furthur the reasons behind why new page does not improve conversion, and whether conversion alone is a good enough metric for the company to make an implementation decision.\n",
    "\n",
    "#### It is possible that there are technical difficulties causing user to not load the new page properly, which in term prevents conversion, should the company resolve this issue and perform another test, we may see a very different outcome. It is also possible that each converted user for the new page generated more revenues for the company (bought more expensive products, etc,.), the company would be better off to conduct a more in-depth research while applicable  than making a decision based on this test alone. "
   ]
  }
 ],
 "metadata": {
  "kernelspec": {
   "display_name": "Python 3",
   "language": "python",
   "name": "python3"
  },
  "language_info": {
   "codemirror_mode": {
    "name": "ipython",
    "version": 3
   },
   "file_extension": ".py",
   "mimetype": "text/x-python",
   "name": "python",
   "nbconvert_exporter": "python",
   "pygments_lexer": "ipython3",
   "version": "3.6.6"
  }
 },
 "nbformat": 4,
 "nbformat_minor": 2
}
